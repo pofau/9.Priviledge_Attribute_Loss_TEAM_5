{
 "cells": [
  {
   "cell_type": "markdown",
   "metadata": {},
   "source": [
    "## Imports"
   ]
  },
  {
   "cell_type": "code",
   "execution_count": 1,
   "metadata": {},
   "outputs": [],
   "source": [
    "import torch\n",
    "import torch.nn as nn\n",
    "import torch.nn.functional as F\n",
    "import torch.optim as optim\n",
    "import torchvision\n",
    "import torchvision.models as models\n",
    "import torchvision.transforms as transforms\n",
    "from torch.utils.data import Dataset, DataLoader, Subset, random_split\n",
    "from datasets import load_dataset\n",
    "from torchsummary import summary\n",
    "import numpy as np\n",
    "from PIL import Image\n",
    "from tqdm import tqdm\n",
    "from tqdm.auto import tqdm\n",
    "\n",
    "import numpy as np\n",
    "import cv2\n",
    "import matplotlib.pyplot as plt\n",
    "from matplotlib.colors import LinearSegmentedColormap\n",
    "import random\n",
    "import time\n",
    "import os\n",
    "import glob\n",
    "\n",
    "# Face recognition library\n",
    "import face_recognition"
   ]
  },
  {
   "cell_type": "markdown",
   "metadata": {},
   "source": [
    "## Define useful classes"
   ]
  },
  {
   "cell_type": "code",
   "execution_count": 6,
   "metadata": {},
   "outputs": [],
   "source": [
    "# AffectNet Dataset Class\n",
    "\n",
    "class AffectNetHqDataset(Dataset):\n",
    "    def __init__(self, dataset, transform=None):\n",
    "        self.dataset = dataset\n",
    "        self.transform = transform\n",
    "\n",
    "    def __len__(self):\n",
    "        return len(self.dataset)\n",
    "\n",
    "    def __getitem__(self, idx):\n",
    "        item = self.dataset[idx]\n",
    "        image = item['image']\n",
    "        label = item['label']\n",
    "\n",
    "        if self.transform:\n",
    "            image = self.transform(image)\n",
    "\n",
    "        return image, label\n",
    "    \n",
    "# RAFDB Dataset Class\n",
    " \n",
    "class RAFDBDataset(Dataset):\n",
    "    def __init__(self, root_dir, label_dir, subset, label_file_name, transform=None):\n",
    "        self.root_dir = root_dir\n",
    "        self.label_dir = label_dir\n",
    "        self.transform = transform\n",
    "        self.subset = subset\n",
    "        self.label_file_name = label_file_name\n",
    "        self.labels, self.image_paths = self._load_data()\n",
    "\n",
    "    def _load_data(self):\n",
    "        labels = []\n",
    "        image_paths = []\n",
    "        \n",
    "        labels_file_path = os.path.join(self.label_dir, self.label_file_name)\n",
    "        with open(labels_file_path, 'r') as file:\n",
    "            lines = file.readlines()\n",
    "\n",
    "            for line in lines:\n",
    "                parts = line.strip().split(' ')\n",
    "                label = int(parts[1])\n",
    "                image_path = os.path.join(self.root_dir, self.subset, parts[0])\n",
    "                labels.append(label)\n",
    "                image_paths.append(image_path)\n",
    "\n",
    "        return labels, image_paths\n",
    "\n",
    "    def __len__(self):\n",
    "        return len(self.labels)\n",
    "\n",
    "    def __getitem__(self, idx):\n",
    "        label = self.labels[idx]\n",
    "        image_path = self.image_paths[idx]\n",
    "        image = Image.open(image_path).convert('RGB')\n",
    "    \n",
    "        if self.transform:\n",
    "            image = self.transform(image)\n",
    "\n",
    "        return image, label"
   ]
  },
  {
   "cell_type": "markdown",
   "metadata": {},
   "source": [
    "## Heatmaps Generation functions"
   ]
  },
  {
   "cell_type": "code",
   "execution_count": 3,
   "metadata": {},
   "outputs": [],
   "source": [
    "def heatmap_generator(image):\n",
    "    face_locations = face_recognition.face_locations(image)\n",
    "\n",
    "    # Load the pre-trained facial landmark model\n",
    "    face_landmarks_list = face_recognition.face_landmarks(image, face_locations)\n",
    "\n",
    "    height, width = image.shape[:2]\n",
    "    lm = np.zeros([height,width])\n",
    "\n",
    "    # Draw facial landmarks on the image\n",
    "    for face_landmarks in face_landmarks_list:\n",
    "        for landmark_type, landmarks in face_landmarks.items():\n",
    "            for (x, y) in landmarks:\n",
    "                if x < height and y < width :\n",
    "                    lm[y,x] = 1\n",
    "\n",
    "    heatmap = cv2.GaussianBlur(lm, [59,59], 3)         \n",
    "\n",
    "    return heatmap\n",
    "\n",
    "def generate_batch_heatmaps(images, heatmap_generator):\n",
    "    batch_heatmaps = torch.zeros_like(images)\n",
    "\n",
    "    for i in range(images.size(0)):\n",
    "        # Convertir le tenseur PyTorch en tableau NumPy pour l'image i\n",
    "        image_np = images[i].permute(1, 2, 0).cpu().detach().numpy()\n",
    "        image_np = (image_np * 255).astype(np.uint8) if image_np.dtype != np.uint8 else image_np\n",
    "        image_np = cv2.cvtColor(image_np, cv2.COLOR_BGR2RGB)\n",
    "            \n",
    "        # Générer la heatmap pour l'image actuelle\n",
    "        heatmap_np = heatmap_generator(image_np)\n",
    "        heatmap_tensor = torch.from_numpy(heatmap_np).float().unsqueeze(0)\n",
    "\n",
    "        # Normaliser la heatmap et l'adapter à la taille de l'image\n",
    "        heatmap_tensor = heatmap_tensor / torch.max(heatmap_tensor)\n",
    "        heatmap_tensor = heatmap_tensor.repeat(3, 1, 1)\n",
    "\n",
    "        # Stocker la heatmap dans le tenseur batch\n",
    "        batch_heatmaps[i] = heatmap_tensor\n",
    "    \n",
    "    return batch_heatmaps"
   ]
  },
  {
   "cell_type": "markdown",
   "metadata": {},
   "source": [
    "## Privileged Attribution Loss"
   ]
  },
  {
   "cell_type": "code",
   "execution_count": 4,
   "metadata": {},
   "outputs": [],
   "source": [
    "class PrivilegedAttributionLoss(nn.Module):\n",
    "    def __init__(self):\n",
    "        super(PrivilegedAttributionLoss, self).__init__()\n",
    "\n",
    "    def forward(self, attribution_maps, prior_maps):\n",
    "        # Add a small value to standard deviation to avoid division by zero\n",
    "        epsilon = 1e-8\n",
    "\n",
    "        # Calculate mean and standard deviation for each sample in the batch\n",
    "        mean_al = torch.mean(attribution_maps, dim=[1, 2, 3], keepdim=True)  # Assuming BCHW format\n",
    "        std_al = torch.std(attribution_maps, dim=[1, 2, 3], keepdim=True) + epsilon\n",
    "\n",
    "        # Calculate the PAL loss\n",
    "        # Ensure that the broadcasting in the subtraction and division is correct\n",
    "        pal_loss = -torch.sum((attribution_maps - mean_al) / std_al * prior_maps, dim=[1, 2, 3])\n",
    "\n",
    "        # Return the mean loss over the batch\n",
    "        return torch.mean(pal_loss)"
   ]
  },
  {
   "cell_type": "markdown",
   "metadata": {},
   "source": [
    "## AffectNet Dataloader"
   ]
  },
  {
   "cell_type": "code",
   "execution_count": 16,
   "metadata": {},
   "outputs": [
    {
     "data": {
      "application/vnd.jupyter.widget-view+json": {
       "model_id": "b23bd77ed9e6436c8499544c700f0d40",
       "version_major": 2,
       "version_minor": 0
      },
      "text/plain": [
       "Resolving data files:   0%|          | 0/16349 [00:00<?, ?it/s]"
      ]
     },
     "metadata": {},
     "output_type": "display_data"
    },
    {
     "name": "stderr",
     "output_type": "stream",
     "text": [
      "Found cached dataset imagefolder (C:/Users/lenov/.cache/huggingface/datasets/imagefolder/AffectNet-ac71cf06b4a145a7/0.0.0/37fbb85cc714a338bea574ac6c7d0b5be5aff46c1862c1989b20e0771199e93f)\n"
     ]
    }
   ],
   "source": [
    "# Load the full dataset\n",
    "full_dataset = load_dataset(\"../datasets/AffectNet\", split='train')\n",
    "\n",
    "# Split the dataset into train and test subsets\n",
    "train_size = int(0.2 * len(full_dataset))\n",
    "test_size = len(full_dataset) - train_size\n",
    "train_subset, test_subset = random_split(full_dataset, [train_size, test_size])\n",
    "\n",
    "# Define transformations\n",
    "train_transform = transforms.Compose([\n",
    "    transforms.Resize((224, 224)),\n",
    "    transforms.RandomRotation((-10, 10)),\n",
    "    transforms.RandomHorizontalFlip(),\n",
    "    transforms.ToTensor(),\n",
    "])\n",
    "\n",
    "test_transform = transforms.Compose([\n",
    "    transforms.Resize((224, 224)),\n",
    "    transforms.ToTensor(),\n",
    "])\n",
    "\n",
    "# Create the dataset and dataloader using the subsets\n",
    "train_dataset = AffectNetHqDataset(Subset(full_dataset, train_subset.indices), transform=train_transform)\n",
    "test_dataset = AffectNetHqDataset(Subset(full_dataset, test_subset.indices), transform=test_transform)\n",
    "\n",
    "train_loader = DataLoader(train_dataset, batch_size=16, shuffle=True)\n",
    "test_loader = DataLoader(test_dataset, batch_size=16, shuffle=False)"
   ]
  },
  {
   "cell_type": "markdown",
   "metadata": {},
   "source": [
    "## RAFDB Dataloader"
   ]
  },
  {
   "cell_type": "code",
   "execution_count": 9,
   "metadata": {},
   "outputs": [],
   "source": [
    "# Transform function for train data\n",
    "train_transform = transforms.Compose([\n",
    "    transforms.RandomRotation(degrees=(-10, 10)),\n",
    "    transforms.RandomHorizontalFlip(),\n",
    "    transforms.Resize((224, 224)),  # Resize to 224x224\n",
    "    transforms.ToTensor(),\n",
    "])\n",
    "\n",
    "# Transform function for test data\n",
    "transform = transforms.Compose([\n",
    "    transforms.ToTensor(),\n",
    "])\n",
    "\n",
    "root_dir = '../datasets/RAF-DB/Image/aligned/'\n",
    "label_dir = '../datasets/RAF-DB/Image/aligned/labels'\n",
    "\n",
    "# Create the dataset and dataloader using the subsets\n",
    "RAFDB_train_dataset = RAFDBDataset(root_dir=root_dir, label_dir = label_dir, subset = 'train', label_file_name='train_label.txt', transform=transform)\n",
    "RAFDB_test_dataset = RAFDBDataset(root_dir=root_dir, label_dir = label_dir, subset = 'test', label_file_name='test_label.txt', transform=transform)\n",
    "\n",
    "RAFDB_train_loader = DataLoader(RAFDB_train_dataset, batch_size=16, shuffle=True)\n",
    "RAFDB_test_loader = DataLoader(RAFDB_test_dataset, batch_size=16, shuffle=False)"
   ]
  },
  {
   "cell_type": "markdown",
   "metadata": {},
   "source": [
    "## VGG16 model"
   ]
  },
  {
   "cell_type": "code",
   "execution_count": 12,
   "metadata": {},
   "outputs": [
    {
     "name": "stdout",
     "output_type": "stream",
     "text": [
      "----------------------------------------------------------------\n",
      "        Layer (type)               Output Shape         Param #\n",
      "================================================================\n",
      "            Conv2d-1         [-1, 64, 224, 224]           1,792\n",
      "              ReLU-2         [-1, 64, 224, 224]               0\n",
      "            Conv2d-3         [-1, 64, 224, 224]          36,928\n",
      "              ReLU-4         [-1, 64, 224, 224]               0\n",
      "         MaxPool2d-5         [-1, 64, 112, 112]               0\n",
      "            Conv2d-6        [-1, 128, 112, 112]          73,856\n",
      "              ReLU-7        [-1, 128, 112, 112]               0\n",
      "            Conv2d-8        [-1, 128, 112, 112]         147,584\n",
      "              ReLU-9        [-1, 128, 112, 112]               0\n",
      "        MaxPool2d-10          [-1, 128, 56, 56]               0\n",
      "           Conv2d-11          [-1, 256, 56, 56]         295,168\n",
      "             ReLU-12          [-1, 256, 56, 56]               0\n",
      "           Conv2d-13          [-1, 256, 56, 56]         590,080\n",
      "             ReLU-14          [-1, 256, 56, 56]               0\n",
      "           Conv2d-15          [-1, 256, 56, 56]         590,080\n",
      "             ReLU-16          [-1, 256, 56, 56]               0\n",
      "        MaxPool2d-17          [-1, 256, 28, 28]               0\n",
      "           Conv2d-18          [-1, 512, 28, 28]       1,180,160\n",
      "             ReLU-19          [-1, 512, 28, 28]               0\n",
      "           Conv2d-20          [-1, 512, 28, 28]       2,359,808\n",
      "             ReLU-21          [-1, 512, 28, 28]               0\n",
      "           Conv2d-22          [-1, 512, 28, 28]       2,359,808\n",
      "             ReLU-23          [-1, 512, 28, 28]               0\n",
      "        MaxPool2d-24          [-1, 512, 14, 14]               0\n",
      "           Conv2d-25          [-1, 512, 14, 14]       2,359,808\n",
      "             ReLU-26          [-1, 512, 14, 14]               0\n",
      "           Conv2d-27          [-1, 512, 14, 14]       2,359,808\n",
      "             ReLU-28          [-1, 512, 14, 14]               0\n",
      "           Conv2d-29          [-1, 512, 14, 14]       2,359,808\n",
      "             ReLU-30          [-1, 512, 14, 14]               0\n",
      "        MaxPool2d-31            [-1, 512, 7, 7]               0\n",
      "AdaptiveAvgPool2d-32            [-1, 512, 7, 7]               0\n",
      "           Linear-33                 [-1, 4096]     102,764,544\n",
      "             ReLU-34                 [-1, 4096]               0\n",
      "          Dropout-35                 [-1, 4096]               0\n",
      "           Linear-36                 [-1, 4096]      16,781,312\n",
      "             ReLU-37                 [-1, 4096]               0\n",
      "          Dropout-38                 [-1, 4096]               0\n",
      "              VGG-39                 [-1, 4096]               0\n",
      "           Linear-40                    [-1, 7]          28,679\n",
      "================================================================\n",
      "Total params: 134,289,223\n",
      "Trainable params: 134,289,223\n",
      "Non-trainable params: 0\n",
      "----------------------------------------------------------------\n",
      "Input size (MB): 0.57\n",
      "Forward/backward pass size (MB): 218.80\n",
      "Params size (MB): 512.27\n",
      "Estimated Total Size (MB): 731.65\n",
      "----------------------------------------------------------------\n"
     ]
    }
   ],
   "source": [
    "# Charger le modèle pré-entraîné VGG16\n",
    "base_model = torchvision.models.vgg16(pretrained=True)\n",
    "\n",
    "# Supprimer la dernière couche entièrement connectée\n",
    "base_model.classifier = nn.Sequential(*list(base_model.classifier.children())[:-1])\n",
    "\n",
    "# Ajouter une nouvelle couche adaptée à 7 classes\n",
    "num_classes = 7\n",
    "classifier_layer = nn.Linear(4096, num_classes)\n",
    "model = nn.Sequential(base_model, classifier_layer)\n",
    "\n",
    "# Afficher la structure du modèle\n",
    "summary(model, (3, 224, 224))"
   ]
  },
  {
   "cell_type": "markdown",
   "metadata": {},
   "source": [
    "## Define Ploting function"
   ]
  },
  {
   "cell_type": "code",
   "execution_count": 11,
   "metadata": {},
   "outputs": [],
   "source": [
    "def plot_element(images, batch_heatmaps, attribution_maps, gradients, i):\n",
    "    \n",
    "    plt.figure(figsize=(12, 8))  # Agrandir la figure pour accueillir toutes les visualisations\n",
    "    # Afficher l'image original\n",
    "    plt.subplot(2, 4, 1)\n",
    "    image_to_show = images[i].permute(1, 2, 0).cpu().detach().numpy()\n",
    "    plt.imshow(image_to_show)\n",
    "    plt.title('Original Image')\n",
    "\n",
    "    # Afficher la heatmap\n",
    "    plt.subplot(2, 4, 2)\n",
    "    heatmap_to_show = batch_heatmaps[i].permute(1, 2, 0).cpu().detach().numpy()\n",
    "    plt.imshow(heatmap_to_show)\n",
    "    plt.title('Heatmap')\n",
    "\n",
    "    # Afficher chaque canal de la carte d'attribution\n",
    "    plt.subplot(2, 4, 3)\n",
    "    attribution_to_show = attribution_maps[i].detach().permute(1, 2, 0).cpu().numpy()\n",
    "    attribution_norm = (attribution_to_show - attribution_to_show.min()) / (attribution_to_show.max() - attribution_to_show.min())\n",
    "    attribution_mean = np.mean(attribution_norm, axis=2)\n",
    "    # Appliquer une colormap 'jet' pour obtenir une carte d'attribution colorée\n",
    "    cmap = plt.get_cmap('bwr')\n",
    "    attribution_colored = cmap(attribution_mean)\n",
    "\n",
    "    # Supprimer le canal alpha retourné par la colormap\n",
    "    attribution_colored = attribution_colored[..., :3]\n",
    "    overlayed_image = (image_to_show) * 0.2 + attribution_colored * 0.9  # Ajustez la transparence ici\n",
    "    plt.imshow(overlayed_image)\n",
    "    plt.title('Attribution Overlay on Original Image')\n",
    "\n",
    "    # Afficher le gradient de sortie sur l'image originale\n",
    "    plt.subplot(1, 4, 4)\n",
    "    gradients_to_show = gradients[i].detach().permute(1, 2, 0).cpu().numpy()\n",
    "    gradients_to_show = np.abs(gradients_to_show)\n",
    "    gradients_to_show /= np.max(gradients_to_show)\n",
    "                \n",
    "    # Superposer le gradient sur l'image originale\n",
    "    overlayed_image = (gradients_to_show * 1.5 + image_to_show * 0.2)\n",
    "    plt.imshow(overlayed_image)\n",
    "    plt.title('Gradient Overlay on Original Image')\n",
    "    \n",
    "    plt.show()"
   ]
  },
  {
   "cell_type": "markdown",
   "metadata": {},
   "source": [
    "## Train"
   ]
  },
  {
   "cell_type": "code",
   "execution_count": 14,
   "metadata": {},
   "outputs": [],
   "source": [
    "# Train parameters\n",
    "num_epochs = 10\n",
    "optimizer = optim.Adam(model.parameters(), lr=4e-5)\n",
    "criterion = torch.nn.CrossEntropyLoss()\n",
    "loss_values = [] \n",
    "accuracy_values = []"
   ]
  },
  {
   "cell_type": "code",
   "execution_count": 17,
   "metadata": {},
   "outputs": [
    {
     "data": {
      "application/vnd.jupyter.widget-view+json": {
       "model_id": "2f4c5cfa723544c691fb6a2d5f2df590",
       "version_major": 2,
       "version_minor": 0
      },
      "text/plain": [
       "  0%|          | 0/205 [00:00<?, ?it/s]"
      ]
     },
     "metadata": {},
     "output_type": "display_data"
    },
    {
     "name": "stderr",
     "output_type": "stream",
     "text": [
      "Clipping input data to the valid range for imshow with RGB data ([0..1] for floats or [0..255] for integers).\n",
      "Clipping input data to the valid range for imshow with RGB data ([0..1] for floats or [0..255] for integers).\n"
     ]
    },
    {
     "ename": "",
     "evalue": "",
     "output_type": "error",
     "traceback": [
      "\u001b[1;31mThe Kernel crashed while executing code in the the current cell or a previous cell. Please review the code in the cell(s) to identify a possible cause of the failure. Click <a href='https://aka.ms/vscodeJupyterKernelCrash'>here</a> for more info. View Jupyter <a href='command:jupyter.viewOutput'>log</a> for further details."
     ]
    }
   ],
   "source": [
    "for epoch in range(num_epochs):\n",
    "    model.train()\n",
    "    running_loss = 0.0\n",
    "    running_pal_loss = 0.0\n",
    "    running_corrects = 0.0\n",
    "    total_samples = 0.0\n",
    "    for images, labels in tqdm(train_loader):\n",
    "        \n",
    "        # Initialiser un tenseur pour stocker toutes les heatmaps\n",
    "        batch_heatmaps = generate_batch_heatmaps(images, heatmap_generator)\n",
    "            \n",
    "         # Ensure that images require gradients\n",
    "        images.requires_grad_()\n",
    "\n",
    "         # Forward pass\n",
    "        outputs = model(images)\n",
    "        labels = labels.long()\n",
    "\n",
    "        # Calcul de la classification loss\n",
    "        classification_loss = criterion(outputs, labels)\n",
    "\n",
    "        # Backward pass for gradients with respect to the input images\n",
    "        classification_loss.backward(retain_graph=True)  \n",
    "        gradients = images.grad\n",
    "\n",
    "        # Compute the attribution maps as the element-wise product of the gradients and the input images\n",
    "        attribution_maps = gradients * images\n",
    "\n",
    "        # Compute the PAL loss using the attribution maps and the prior maps\n",
    "        pal_loss_fn = PrivilegedAttributionLoss()\n",
    "        pal_loss = pal_loss_fn(attribution_maps, batch_heatmaps)\n",
    "\n",
    "        # Calcul de la PAL loss et de la classification loss\n",
    "        total_loss = classification_loss + pal_loss\n",
    "\n",
    "        # Backpropagation et optimisation\n",
    "        optimizer.zero_grad()  # Clear gradients before the backward pass\n",
    "        total_loss.backward()\n",
    "        optimizer.step()\n",
    "\n",
    "        # Mise à jour des running loss et PAL loss\n",
    "        running_loss += classification_loss.item()\n",
    "        running_pal_loss += pal_loss.item()         \n",
    "\n",
    "        if epoch == 0:\n",
    "            for i in range(images.size(0)):\n",
    "                plot_element(images, batch_heatmaps, attribution_maps, gradients, i)\n",
    "\n",
    "\n",
    "        # Mise à jour des running loss et PAL loss\n",
    "        running_loss += classification_loss.item()\n",
    "        running_pal_loss += pal_loss.item()\n",
    "\n",
    "        # Calcul de l'accuracy\n",
    "        _, preds = torch.max(outputs, 1)\n",
    "        running_corrects += torch.sum(preds == labels.data)\n",
    "        total_samples += labels.size(0)\n",
    "\n",
    "    # Calcul des moyennes pour l'époque\n",
    "    epoch_loss = running_loss / len(train_loader)\n",
    "    epoch_pal_loss = running_pal_loss / len(train_loader)\n",
    "    epoch_acc = running_corrects.double() / total_samples\n",
    "\n",
    "    # Ajouter les valeurs moyennes aux listes\n",
    "    loss_values.append(epoch_loss)\n",
    "    accuracy_values.append(epoch_acc)\n",
    "\n",
    "    # Affichage des résultats pour l'époque\n",
    "    print(f'Epoch {epoch}/{num_epochs - 1}')\n",
    "    print(f'Loss: {epoch_loss:.4f}, PAL Loss: {epoch_pal_loss:.4f}, Accuracy: {epoch_acc:.4f}')\n"
   ]
  },
  {
   "cell_type": "code",
   "execution_count": null,
   "metadata": {},
   "outputs": [],
   "source": []
  },
  {
   "cell_type": "code",
   "execution_count": null,
   "metadata": {},
   "outputs": [],
   "source": []
  },
  {
   "cell_type": "code",
   "execution_count": null,
   "metadata": {},
   "outputs": [],
   "source": []
  },
  {
   "cell_type": "code",
   "execution_count": null,
   "metadata": {},
   "outputs": [],
   "source": []
  }
 ],
 "metadata": {
  "kernelspec": {
   "display_name": "base",
   "language": "python",
   "name": "python3"
  },
  "language_info": {
   "codemirror_mode": {
    "name": "ipython",
    "version": 3
   },
   "file_extension": ".py",
   "mimetype": "text/x-python",
   "name": "python",
   "nbconvert_exporter": "python",
   "pygments_lexer": "ipython3",
   "version": "3.11.5"
  }
 },
 "nbformat": 4,
 "nbformat_minor": 2
}
